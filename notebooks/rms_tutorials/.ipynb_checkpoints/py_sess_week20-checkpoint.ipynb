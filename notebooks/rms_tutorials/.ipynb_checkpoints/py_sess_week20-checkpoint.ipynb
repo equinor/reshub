{
 "cells": [
  {
   "cell_type": "markdown",
   "id": "93c88786-c185-4187-8f22-44d10298020d",
   "metadata": {},
   "source": [
    "<div style=\"color: #f20044; font-weight: bold; font-size: 24px;\">\n",
    "    Python Learning Session: Week 20 \n",
    "</div>\n",
    "\n",
    "\n",
    "main topics \u000b",
    "#venv #pandas #dicts\n"
   ]
  },
  {
   "cell_type": "markdown",
   "id": "4bef02a9-c33f-42a9-8a95-56cbfdd4b0ea",
   "metadata": {},
   "source": [
    "## Agenda\n",
    "\n",
    "1. **Recap**\n",
    "   - Virtual Environments\n",
    "   - Pandas\n",
    "2. **Dictionaries in Python**\n"
   ]
  },
  {
   "cell_type": "markdown",
   "id": "156463b3-b2d0-4505-93ab-f3882cc837a5",
   "metadata": {},
   "source": [
    "<div style=\"text-align: center; color: #f20044; font-weight: bold; font-size: 18px;\">\n",
    "    Virtual Environments:\n",
    "</div>\n",
    "\n",
    "<div style=\"text-align: center; font-size: 16px;\">\n",
    "Komodo is like a supercharged version of venv that can manage not just Python libraries but a wide range of software applications and tools.\n",
    "</div>\n",
    "\n",
    "\n",
    "<div style=\"text-align: center;\">\n",
    "    <img src=\"https://www.dataquest.io/wp-content/uploads/2022/01/python-virtual-envs1-1024x576.webp\" alt=\"Optional Image Title\" style=\"width: 60%;\">\n",
    "</div>\n"
   ]
  },
  {
   "cell_type": "code",
   "execution_count": 1,
   "id": "0a065356-4cff-4fed-8297-867c1784bb28",
   "metadata": {},
   "outputs": [
    {
     "data": {
      "text/plain": [
       "'1.5.3'"
      ]
     },
     "execution_count": 1,
     "metadata": {},
     "output_type": "execute_result"
    }
   ],
   "source": [
    "import pandas as pd\n",
    "\n",
    "pd.__version__"
   ]
  },
  {
   "cell_type": "code",
   "execution_count": 6,
   "id": "3c366d00-72b8-4bda-a754-a963995fad89",
   "metadata": {},
   "outputs": [
    {
     "data": {
      "text/plain": [
       "'\\n28.05.2023\\t179,5\\n29.05.2023\\t182,0\\n30.05.2023\\t180,6\\n31.05.2023\\t180,1\\n01.06.2023\\t178,9\\n02.06.2023\\t178,0\\n03.06.2023\\t177,7\\n04.06.2023\\t177,9\\n05.06.2023\\t176,3\\n06.06.2023\\t176,1\\n07.06.2023\\t175,8\\n08.06.2023\\t176,6\\n09.06.2023\\t176,3\\n10.06.2023\\t176,4\\n11.06.2023\\t176,8\\n12.06.2023\\t176,9\\n13.06.2023\\t176,9\\n14.06.2023\\t176,1\\n15.06.2023\\t176,7\\n16.06.2023\\t176,2\\n17.06.2023\\t174,4\\n18.06.2023\\t175,2\\n19.06.2023\\t174,6\\n20.06.2023\\t174,2\\n21.06.2023\\t174,4\\n22.06.2023\\t174,4\\n23.06.2023\\t174,0\\n24.06.2023\\t174,1\\n25.06.2023\\t173,8\\n26.06.2023\\t173,5\\n27.06.2023\\t175,3\\n28.06.2023\\t175,7\\n29.06.2023\\t175,4\\n30.06.2023\\t174,8\\n01.07.2023\\t173,6\\n02.07.2023\\t174,1\\n03.07.2023\\t173,7\\n04.07.2023\\t173,6\\n05.07.2023\\t172,8\\n06.07.2023\\t171,8\\n07.07.2023\\t171,7\\n08.07.2023\\t171,8\\n09.07.2023\\t171,8\\n10.07.2023\\t171,7\\n11.07.2023\\t171,9\\n12.07.2023\\t171,5\\n13.07.2023\\t171,5\\n14.07.2023\\t171,4\\n15.07.2023\\t171,2\\n16.07.2023\\t171,1\\n17.07.2023\\t171,3\\n18.07.2023\\t171,3\\n19.07.2023\\t171,3\\n20.07.2023\\t171,4\\n21.07.2023\\t171,3\\n22.07.2023\\t171,4\\n'"
      ]
     },
     "execution_count": 6,
     "metadata": {},
     "output_type": "execute_result"
    }
   ],
   "source": [
    "## You can test by copy-ing the content in between \"\"\"<content>\"\"\" below and running the cell\n",
    "\"\"\"\n",
    "28.05.2023\t179,5\n",
    "29.05.2023\t182,0\n",
    "30.05.2023\t180,6\n",
    "31.05.2023\t180,1\n",
    "01.06.2023\t178,9\n",
    "02.06.2023\t178,0\n",
    "03.06.2023\t177,7\n",
    "04.06.2023\t177,9\n",
    "05.06.2023\t176,3\n",
    "06.06.2023\t176,1\n",
    "07.06.2023\t175,8\n",
    "08.06.2023\t176,6\n",
    "09.06.2023\t176,3\n",
    "10.06.2023\t176,4\n",
    "11.06.2023\t176,8\n",
    "12.06.2023\t176,9\n",
    "13.06.2023\t176,9\n",
    "14.06.2023\t176,1\n",
    "15.06.2023\t176,7\n",
    "16.06.2023\t176,2\n",
    "17.06.2023\t174,4\n",
    "18.06.2023\t175,2\n",
    "19.06.2023\t174,6\n",
    "20.06.2023\t174,2\n",
    "21.06.2023\t174,4\n",
    "22.06.2023\t174,4\n",
    "23.06.2023\t174,0\n",
    "24.06.2023\t174,1\n",
    "25.06.2023\t173,8\n",
    "26.06.2023\t173,5\n",
    "27.06.2023\t175,3\n",
    "28.06.2023\t175,7\n",
    "29.06.2023\t175,4\n",
    "30.06.2023\t174,8\n",
    "01.07.2023\t173,6\n",
    "02.07.2023\t174,1\n",
    "03.07.2023\t173,7\n",
    "04.07.2023\t173,6\n",
    "05.07.2023\t172,8\n",
    "06.07.2023\t171,8\n",
    "07.07.2023\t171,7\n",
    "08.07.2023\t171,8\n",
    "09.07.2023\t171,8\n",
    "10.07.2023\t171,7\n",
    "11.07.2023\t171,9\n",
    "12.07.2023\t171,5\n",
    "13.07.2023\t171,5\n",
    "14.07.2023\t171,4\n",
    "15.07.2023\t171,2\n",
    "16.07.2023\t171,1\n",
    "17.07.2023\t171,3\n",
    "18.07.2023\t171,3\n",
    "19.07.2023\t171,3\n",
    "20.07.2023\t171,4\n",
    "21.07.2023\t171,3\n",
    "22.07.2023\t171,4\n",
    "\"\"\""
   ]
  },
  {
   "cell_type": "code",
   "execution_count": 1,
   "id": "fd368a7b-0da8-4dd0-bf12-91811a0caff1",
   "metadata": {},
   "outputs": [],
   "source": [
    "import pandas as pd\n",
    "\n",
    "df = pd.read_clipboard(names = ['Date', 'pressure_barg']) #copy the content from any type of file\n",
    "df.Date = pd.to_datetime(df.Date, format='%d.%m.%Y')\n",
    "#df.describe()\n",
    "\n",
    "#df.to_csv('A7_test.csv', index = False)"
   ]
  },
  {
   "cell_type": "code",
   "execution_count": 8,
   "id": "3e358394-cafe-4921-af1d-7838344bcf33",
   "metadata": {},
   "outputs": [],
   "source": [
    "df.pressure_barg = pd.to_numeric(df.pressure_barg.str.replace(',', '.'))"
   ]
  },
  {
   "cell_type": "code",
   "execution_count": 4,
   "id": "c5987548-2dd9-40c1-b2fa-5371abab6bdf",
   "metadata": {},
   "outputs": [
    {
     "data": {
      "text/plain": [
       "{}"
      ]
     },
     "execution_count": 4,
     "metadata": {},
     "output_type": "execute_result"
    }
   ],
   "source": [
    "dict()"
   ]
  },
  {
   "cell_type": "code",
   "execution_count": 10,
   "id": "d1d25af0-d087-4360-8d5c-4c5202923581",
   "metadata": {},
   "outputs": [
    {
     "data": {
      "text/plain": [
       "{'wellname': 'Alpha Omega',\n",
       " 'md': 5000,\n",
       " 'poro': 0.5,\n",
       " 'API': 38,\n",
       " 'status': 'active'}"
      ]
     },
     "execution_count": 10,
     "metadata": {},
     "output_type": "execute_result"
    }
   ],
   "source": [
    "dict(wellname = 'Alpha Omega', md = 5000, poro = 0.5, API = 38, status = 'active') "
   ]
  },
  {
   "cell_type": "code",
   "execution_count": 12,
   "id": "14deac25-54c7-4aa4-ae77-250f37cc0e07",
   "metadata": {},
   "outputs": [
    {
     "data": {
      "text/plain": [
       "{'wellname': 'Alpha Omega',\n",
       " 'md': 5000,\n",
       " 'poro': 0.5,\n",
       " 'API': 38,\n",
       " 'status': 'active'}"
      ]
     },
     "execution_count": 12,
     "metadata": {},
     "output_type": "execute_result"
    }
   ],
   "source": [
    "welldata = dict(wellname = 'Alpha Omega', md = 5000, poro = 0.5, API = 38, status = 'active') \n",
    "\n",
    "welldata"
   ]
  },
  {
   "cell_type": "code",
   "execution_count": 14,
   "id": "0ad10024-b79c-4231-a504-16aa5eabb880",
   "metadata": {},
   "outputs": [
    {
     "data": {
      "text/plain": [
       "{'wellname': 'Alpha Omega',\n",
       " 'md': 5000,\n",
       " 'poro': 0.5,\n",
       " 'API': 38,\n",
       " 'status': 'active',\n",
       " 'production': 4900}"
      ]
     },
     "execution_count": 14,
     "metadata": {},
     "output_type": "execute_result"
    }
   ],
   "source": [
    "welldata['production'] = 4900\n",
    "\n",
    "welldata"
   ]
  },
  {
   "cell_type": "code",
   "execution_count": 16,
   "id": "e213517c-f443-40e8-84d6-b85ee643354b",
   "metadata": {},
   "outputs": [
    {
     "data": {
      "text/plain": [
       "{'wellname': 'Alpha Omega',\n",
       " 'md': 5000,\n",
       " 'poro': 0.5,\n",
       " 'API': 38,\n",
       " 'status': 'P&A',\n",
       " 'production': 4900}"
      ]
     },
     "execution_count": 16,
     "metadata": {},
     "output_type": "execute_result"
    }
   ],
   "source": [
    "welldata['status'] = 'P&A'\n",
    "\n",
    "welldata"
   ]
  },
  {
   "cell_type": "code",
   "execution_count": 17,
   "id": "8b67c49c-2c94-44c1-b268-57ff9efddd6c",
   "metadata": {},
   "outputs": [
    {
     "data": {
      "text/plain": [
       "dict_keys(['wellname', 'md', 'poro', 'API', 'status', 'production'])"
      ]
     },
     "execution_count": 17,
     "metadata": {},
     "output_type": "execute_result"
    }
   ],
   "source": [
    "welldata.keys()"
   ]
  },
  {
   "cell_type": "code",
   "execution_count": 18,
   "id": "6a5a94c0-dff5-420d-9ddc-939a1863c99a",
   "metadata": {},
   "outputs": [
    {
     "data": {
      "text/plain": [
       "dict_items([('wellname', 'Alpha Omega'), ('md', 5000), ('poro', 0.5), ('API', 38), ('status', 'P&A'), ('production', 4900)])"
      ]
     },
     "execution_count": 18,
     "metadata": {},
     "output_type": "execute_result"
    }
   ],
   "source": [
    "welldata.items()"
   ]
  },
  {
   "cell_type": "code",
   "execution_count": 19,
   "id": "0f49c80c-7495-4a63-89a3-0897f8e0841f",
   "metadata": {},
   "outputs": [
    {
     "name": "stdout",
     "output_type": "stream",
     "text": [
      "wellname: Alpha Omega\n",
      "md: 5000\n",
      "poro: 0.5\n",
      "API: 38\n",
      "status: P&A\n",
      "production: 4900\n"
     ]
    }
   ],
   "source": [
    "for key, value in welldata.items():\n",
    "    print(f\"{key}: {value}\")\n"
   ]
  },
  {
   "cell_type": "code",
   "execution_count": 2,
   "id": "95cc3603-85d4-47e8-9de2-cff87a7cdf42",
   "metadata": {},
   "outputs": [],
   "source": [
    "global_variables = \"\"\"globval:\n",
    "  OWC_most_uppersand: 1859.0\n",
    "  OWC_uppersand: 1859.0\n",
    "  OWC_lowersand: 1962.0\n",
    "\"\"\""
   ]
  },
  {
   "cell_type": "code",
   "execution_count": 7,
   "id": "880c0d54-6036-4ce7-b131-c5acf0e760ac",
   "metadata": {},
   "outputs": [],
   "source": [
    "import fmu.config.utilities as utils\n",
    "\n",
    "#CFG = utils.yaml_load('../../fmuconfig/output/global_variables.yml')['global']\n"
   ]
  }
 ],
 "metadata": {
  "kernelspec": {
   "display_name": "Python 3 (ipykernel)",
   "language": "python",
   "name": "python3"
  },
  "language_info": {
   "codemirror_mode": {
    "name": "ipython",
    "version": 3
   },
   "file_extension": ".py",
   "mimetype": "text/x-python",
   "name": "python",
   "nbconvert_exporter": "python",
   "pygments_lexer": "ipython3",
   "version": "3.8.18"
  }
 },
 "nbformat": 4,
 "nbformat_minor": 5
}
