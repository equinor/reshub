{
 "cells": [
  {
   "cell_type": "markdown",
   "id": "80d27c43-b702-471a-a10a-d0eb4771147f",
   "metadata": {},
   "source": [
    "## 📌 RegularSurface Description\n",
    "\n",
    "A **RegularSurface** is described by:\n",
    "\n",
    "- 📍 **Origin in UTM coordinates**: Defined as `xori` and `yori`.\n",
    "- 📏 **Increment in each direction**: Defined as `xinc` and `yinc`.\n",
    "- 🔢 **Grid dimensions**: Defined by `ncol` (columns in X direction) and `nrow` (rows in Y direction).\n",
    "- 🌀 **Rotation**: Counter-clockwise from the X (East) axis, given in degrees.\n",
    "- 🔄 **Y-axis flipping**:\n",
    "  - Normally, the system is **left-handed** (Z-axis positive down).\n",
    "  - If `yflip = -1`, then the map becomes **right-handed**.\n",
    "- 🖥 **2D array of values**:\n",
    "  - Stored as a **masked NumPy array** with shape `(ncol, nrow)`.\n",
    "  - Undefined map nodes are **masked**.\n",
    "  - Stored in **C-order** (row-major).\n",
    "  - Default data type: **64-bit Float**.\n"
   ]
  },
  {
   "cell_type": "markdown",
   "id": "d3b534e4-aae9-4b84-a8a4-886033e7017d",
   "metadata": {},
   "source": [
    "![Regular Surface Model](https://xtgeo.readthedocs.io/en/latest/_images/datamodel_regsurface.svg)\n"
   ]
  },
  {
   "cell_type": "code",
   "execution_count": 1,
   "id": "3a98afb5-c9ea-4de5-a029-6751ac52c4aa",
   "metadata": {},
   "outputs": [],
   "source": [
    "import numpy as np\n",
    "import xtgeo\n",
    "\n",
    "# Grid dimensions\n",
    "ncol, nrow = 30, 50\n",
    "\n",
    "# Create dummy values for the surface (e.g., elevations)\n",
    "vals = np.linspace(1000, 2000, num=ncol*nrow)\n",
    "\n",
    "surf = xtgeo.RegularSurface(\n",
    "    ncol=30, nrow=50, xori=1234.5, yori=4321.0, xinc=30.0, yinc=50.0,\n",
    "    rotation=30.0, values=vals, yflip=1,\n",
    ")"
   ]
  },
  {
   "cell_type": "code",
   "execution_count": 2,
   "id": "699068df-80c9-410d-b7c6-6d5baa4de8be",
   "metadata": {},
   "outputs": [
    {
     "name": "stdout",
     "output_type": "stream",
     "text": [
      "===================================================================================================\n",
      "Description of RegularSurface instance\n",
      "===================================================================================================\n",
      "Object ID                                => 139713009457360\n",
      "File source                              => None\n",
      "Shape: NCOL, NROW                        => 30  50\n",
      "Active cells vs total                    => 1500  1500\n",
      "Origins XORI, YORI                       => 1234.5  4321.0\n",
      "Increments XINC YINC                     => 30.0  50.0\n",
      "Rotation (anti-clock from X)             => 30.0\n",
      "YFLIP flag                               => 1\n",
      "Inlines vector                           => [ 1  2  3 ... 28 29 30]\n",
      "Xlines vector                            => [ 1  2  3 ... 48 49 50]\n",
      "Values                                   => [1000.0 1000.667111407605 1001.3342228152102 ... 1998.66577718479\n",
      " 1999.332888592395 2000.0]  float64\n",
      "Values: mean, stdev, minimum, maximum    => 1500.0  288.86764887736075  1000.0  2000.0\n",
      "Minimum memory usage of array (GB)       => 1.1175870895385742e-05\n",
      "===================================================================================================\n"
     ]
    }
   ],
   "source": [
    "print(surf)"
   ]
  },
  {
   "cell_type": "code",
   "execution_count": 4,
   "id": "d55eddb3-c95f-486b-94c8-922c660bc3a0",
   "metadata": {},
   "outputs": [
    {
     "name": "stdout",
     "output_type": "stream",
     "text": [
      "[[1000.0 1000.667111407605 1001.3342228152102 ... 1031.3542361574382\n",
      "  1032.0213475650435 1032.6884589726485]\n",
      " [1033.3555703802535 1034.0226817878586 1034.6897931954636 ...\n",
      "  1064.7098065376917 1065.3769179452968 1066.0440293529018]\n",
      " [1066.711140760507 1067.378252168112 1068.0453635757171 ...\n",
      "  1098.0653769179453 1098.7324883255503 1099.3995997331554]\n",
      " ...\n",
      " [1900.6004002668446 1901.2675116744497 1901.9346230820547 ...\n",
      "  1931.9546364242829 1932.621747831888 1933.288859239493]\n",
      " [1933.9559706470982 1934.623082054703 1935.2901934623083 ...\n",
      "  1965.3102068045364 1965.9773182121414 1966.6444296197465]\n",
      " [1967.3115410273517 1967.9786524349565 1968.6457638425618 ...\n",
      "  1998.66577718479 1999.332888592395 2000.0]]\n"
     ]
    }
   ],
   "source": [
    "print(surf.values)"
   ]
  },
  {
   "cell_type": "code",
   "execution_count": 5,
   "id": "65b921d9-49d6-4ab5-845a-9b0327152ed3",
   "metadata": {},
   "outputs": [
    {
     "data": {
      "text/plain": [
       "(30, 50)"
      ]
     },
     "execution_count": 5,
     "metadata": {},
     "output_type": "execute_result"
    }
   ],
   "source": [
    "surf.values.shape"
   ]
  },
  {
   "cell_type": "code",
   "execution_count": 6,
   "id": "2ff92d8b-55c0-4323-a363-3e2a9b4e0644",
   "metadata": {},
   "outputs": [
    {
     "data": {
      "text/plain": [
       "(1500,)"
      ]
     },
     "execution_count": 6,
     "metadata": {},
     "output_type": "execute_result"
    }
   ],
   "source": [
    "surf.values1d.shape"
   ]
  },
  {
   "cell_type": "code",
   "execution_count": 11,
   "id": "885c2eb2-6b3b-4145-b840-b92575f999e9",
   "metadata": {},
   "outputs": [
    {
     "name": "stdout",
     "output_type": "stream",
     "text": [
      "Number of data points in the surface data:  1500\n",
      "Minimum value:  1000.0\n",
      "Minimum value:  1000.0\n",
      "Maximum value:  2000.0\n",
      "Surface rotation:  30.0\n"
     ]
    }
   ],
   "source": [
    "print('Number of data points in the surface data: ', len(surf.values1d))\n",
    "print('Minimum value: ', np.min(surf.values1d))\n",
    "print('Minimum value: ', np.min(surf.values))\n",
    "print('Maximum value: ', np.max(surf.values))\n",
    "print('Surface rotation: ', surf.rotation)"
   ]
  },
  {
   "cell_type": "code",
   "execution_count": 1,
   "id": "bce571f8-0fb7-4923-b58a-2db80265b19d",
   "metadata": {},
   "outputs": [
    {
     "ename": "ModuleNotFoundError",
     "evalue": "No module named 'bokeh'",
     "output_type": "error",
     "traceback": [
      "\u001b[0;31m---------------------------------------------------------------------------\u001b[0m",
      "\u001b[0;31mModuleNotFoundError\u001b[0m                       Traceback (most recent call last)",
      "Cell \u001b[0;32mIn[1], line 1\u001b[0m\n\u001b[0;32m----> 1\u001b[0m \u001b[38;5;28;01mfrom\u001b[39;00m \u001b[38;5;21;01mbokeh\u001b[39;00m\u001b[38;5;21;01m.\u001b[39;00m\u001b[38;5;21;01mplotting\u001b[39;00m \u001b[38;5;28;01mimport\u001b[39;00m figure, show, row\n\u001b[1;32m      2\u001b[0m \u001b[38;5;28;01mfrom\u001b[39;00m \u001b[38;5;21;01mbokeh\u001b[39;00m\u001b[38;5;21;01m.\u001b[39;00m\u001b[38;5;21;01mmodels\u001b[39;00m \u001b[38;5;28;01mimport\u001b[39;00m ColorBar, LinearColorMapper, ColumnDataSource\n\u001b[1;32m      3\u001b[0m \u001b[38;5;28;01mfrom\u001b[39;00m \u001b[38;5;21;01mbokeh\u001b[39;00m\u001b[38;5;21;01m.\u001b[39;00m\u001b[38;5;21;01mio\u001b[39;00m \u001b[38;5;28;01mimport\u001b[39;00m output_notebook\n",
      "\u001b[0;31mModuleNotFoundError\u001b[0m: No module named 'bokeh'"
     ]
    }
   ],
   "source": [
    "from bokeh.plotting import figure, show, row\n",
    "from bokeh.models import ColorBar, LinearColorMapper, ColumnDataSource\n",
    "from bokeh.io import output_notebook\n",
    "\n",
    "# Enable Bokeh for notebooks\n",
    "output_notebook()\n",
    "\n",
    "# Get X, Y coordinates and flatten them\n",
    "x, y = surf.get_xy_values()\n",
    "x = x.flatten()\n",
    "y = y.flatten()\n",
    "z = surf.values.flatten()\n",
    "\n",
    "# Create a ColumnDataSource\n",
    "source = ColumnDataSource(data=dict(x=x, y=y, z=z))\n",
    "\n",
    "# Define color mapper\n",
    "color_mapper = LinearColorMapper(palette=\"Viridis256\", low=z.min(), high=z.max())\n",
    "\n",
    "# Create Bokeh figure\n",
    "p = figure(title=\"Surface Elevation\", \n",
    "           tools='pan,wheel_zoom,reset,hover',\n",
    "           tooltips=[(\"X\", \"@x\"), (\"Y\", \"@y\"), (\"Elevation\", \"@z\")],\n",
    "           match_aspect=True)\n",
    "\n",
    "# Add scatter plot using ColumnDataSource\n",
    "p.scatter(x='x', y='y', source=source, size=10, \n",
    "         color={'field': 'z', 'transform': color_mapper}, \n",
    "         line_color=None)\n",
    "\n",
    "\n",
    "# Create Bokeh figure\n",
    "p2 = figure(title=\"Surface Elevation\", \n",
    "           tools='pan,wheel_zoom,reset,hover',\n",
    "           tooltips=[(\"X\", \"@x\"), (\"Y\", \"@y\"), (\"Elevation\", \"@z\")],\n",
    "           match_aspect=True)\n",
    "\n",
    "\n",
    "# Add scatter plot using ColumnDataSource\n",
    "p2.scatter(x='x', y='y', source=source, size=5, \n",
    "         color={'field': 'z', 'transform': color_mapper}, \n",
    "         line_color=None)\n",
    "\n",
    "\n",
    "# Add color bar\n",
    "color_bar = ColorBar(color_mapper=color_mapper, location=(0,0), title='Elevation')\n",
    "p.add_layout(color_bar, 'left')\n",
    "\n",
    "# Show the plot\n",
    "show(row(p, p2))"
   ]
  },
  {
   "cell_type": "code",
   "execution_count": 8,
   "id": "54c5eeb3-e234-4545-93f3-d574e0d35958",
   "metadata": {},
   "outputs": [
    {
     "data": {
      "text/plain": [
       "PosixPath('newfile.gri')"
      ]
     },
     "execution_count": 8,
     "metadata": {},
     "output_type": "execute_result"
    }
   ],
   "source": [
    "surf.to_file(\"newfile.gri\")"
   ]
  },
  {
   "cell_type": "code",
   "execution_count": 9,
   "id": "e124c0f3-525f-42d4-8ecc-40d52dc51262",
   "metadata": {},
   "outputs": [
    {
     "name": "stdout",
     "output_type": "stream",
     "text": [
      "===================================================================================================\n",
      "Description of RegularSurface instance\n",
      "===================================================================================================\n",
      "Object ID                                => 139711672331280\n",
      "File source                              => newfile.gri\n",
      "Shape: NCOL, NROW                        => 30  50\n",
      "Active cells vs total                    => 1500  1500\n",
      "Origins XORI, YORI                       => 1234.5  4321.0\n",
      "Increments XINC YINC                     => 30.0  50.0\n",
      "Rotation (anti-clock from X)             => 30.0\n",
      "YFLIP flag                               => 1\n",
      "Inlines vector                           => [ 1  2  3 ... 28 29 30]\n",
      "Xlines vector                            => [ 1  2  3 ... 48 49 50]\n",
      "Values                                   => [1000.0 1000.6671142578125 1001.334228515625 ... 1998.665771484375\n",
      " 1999.3328857421875 2000.0]  float64\n",
      "Values: mean, stdev, minimum, maximum    => 1500.0  288.8676482416572  1000.0  2000.0\n",
      "Minimum memory usage of array (GB)       => 1.1175870895385742e-05\n",
      "===================================================================================================\n",
      "30.0 50.0\n",
      "30.0\n"
     ]
    },
    {
     "data": {
      "text/plain": [
       "PosixPath('changedsurface.gri')"
      ]
     },
     "execution_count": 9,
     "metadata": {},
     "output_type": "execute_result"
    }
   ],
   "source": [
    "surf3 =xtgeo.surface_from_file('newfile.gri')\n",
    "\n",
    "print(surf3)  # will show a description\n",
    "\n",
    "print(surf3.xinc, surf3.yinc)\n",
    "\n",
    "print(surf3.rotation)\n",
    "\n",
    "# change the rotation:\n",
    "surf3.rotation = 45.0\n",
    "\n",
    "# move the surface 1000 m to west:\n",
    "surf3.xori -= 1000.0\n",
    "\n",
    "# export the modified surface\n",
    "surf3.to_file('changedsurface.gri')  # irap binary is default\n",
    "\n",
    "# Note that changing `nrow` and `ncol` is not possible to do directly."
   ]
  }
 ],
 "metadata": {
  "kernelspec": {
   "display_name": "Python 3 (ipykernel)",
   "language": "python",
   "name": "python3"
  },
  "language_info": {
   "codemirror_mode": {
    "name": "ipython",
    "version": 3
   },
   "file_extension": ".py",
   "mimetype": "text/x-python",
   "name": "python",
   "nbconvert_exporter": "python",
   "pygments_lexer": "ipython3",
   "version": "3.11.11"
  }
 },
 "nbformat": 4,
 "nbformat_minor": 5
}
