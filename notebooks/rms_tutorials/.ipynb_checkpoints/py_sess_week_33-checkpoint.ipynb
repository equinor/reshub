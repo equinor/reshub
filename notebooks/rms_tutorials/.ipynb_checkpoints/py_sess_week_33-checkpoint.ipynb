{
 "cells": [
  {
   "cell_type": "markdown",
   "id": "fe9db8ef-045f-4444-8ac5-2b93204b926c",
   "metadata": {},
   "source": [
    "<div style=\"color: #f20044; font-weight: bold; font-size: 24px;\">\n",
    "    Python Learning Session: Week 33 \n",
    "</div>\n",
    "\n",
    "\n",
    "main topics \u000b",
    "#os\n",
    "\n",
    "\n",
    "## Agenda\n",
    "\n",
    "1. **os**\n",
    "   - what it is and how to use it\n",
    "2. **os in fmu**"
   ]
  },
  {
   "cell_type": "code",
   "execution_count": 2,
   "id": "d2bb2d82-02f0-418e-81c8-bac8cd1bccf6",
   "metadata": {},
   "outputs": [
    {
     "name": "stdout",
     "output_type": "stream",
     "text": [
      "Current Working Directory: /private/zpk/Documents/repos/reshub/notebooks/rms_tutorials\n"
     ]
    }
   ],
   "source": [
    "import os\n",
    "\n",
    "# Get the current working directory\n",
    "current_directory = os.getcwd()\n",
    "print(\"Current Working Directory:\", current_directory)"
   ]
  },
  {
   "cell_type": "code",
   "execution_count": 4,
   "id": "5681e2b1-4b14-4988-8fcd-11f249739bcd",
   "metadata": {},
   "outputs": [
    {
     "name": "stdout",
     "output_type": "stream",
     "text": [
      "Changed Directory: /private/zpk/Documents/repos/reshub/notebooks\n"
     ]
    }
   ],
   "source": [
    "# Change to a different directory (example: change to the parent directory)\n",
    "os.chdir('..')\n",
    "print(\"Changed Directory:\", os.getcwd())\n",
    "\n",
    "# Change back to the original directory\n",
    "os.chdir(current_directory)"
   ]
  },
  {
   "cell_type": "code",
   "execution_count": 5,
   "id": "9abada97-09ff-4f00-9494-eaae58cbb844",
   "metadata": {},
   "outputs": [
    {
     "name": "stdout",
     "output_type": "stream",
     "text": [
      "Directory Contents: ['.ipynb_checkpoints', 'py_sess_week20.ipynb', 'py_sess_week23.ipynb', 'py_sess_week18.ipynb', 'py_sess_week_33.ipynb', 'py_sess_week_25.ipynb']\n"
     ]
    }
   ],
   "source": [
    "# List the contents of a directory\n",
    "contents = os.listdir(current_directory)\n",
    "print(\"Directory Contents:\", contents)"
   ]
  },
  {
   "cell_type": "code",
   "execution_count": 14,
   "id": "1a155386-6379-4d3a-9750-f9b5be1faa8d",
   "metadata": {},
   "outputs": [
    {
     "name": "stdout",
     "output_type": "stream",
     "text": [
      "Created 'test_directory'\n"
     ]
    }
   ],
   "source": [
    "# Create a new directory\n",
    "os.mkdir('test_directory')\n",
    "print(\"Created 'test_directory'\")"
   ]
  },
  {
   "cell_type": "code",
   "execution_count": 15,
   "id": "db37561a-781b-4111-be4c-581936a016ba",
   "metadata": {},
   "outputs": [
    {
     "name": "stdout",
     "output_type": "stream",
     "text": [
      "Renamed directory to 'renamed_directory'\n"
     ]
    }
   ],
   "source": [
    "# Rename the directory\n",
    "os.rename('test_directory', 'renamed_directory')\n",
    "print(\"Renamed directory to 'renamed_directory'\")"
   ]
  },
  {
   "cell_type": "code",
   "execution_count": 16,
   "id": "bf233aa7-f23b-4000-aca4-1c0c7169bd7d",
   "metadata": {},
   "outputs": [
    {
     "name": "stdout",
     "output_type": "stream",
     "text": [
      "Removed 'renamed_directory'\n"
     ]
    }
   ],
   "source": [
    "# Remove the directory\n",
    "os.rmdir('renamed_directory')\n",
    "print(\"Removed 'renamed_directory'\")"
   ]
  },
  {
   "cell_type": "code",
   "execution_count": 24,
   "id": "56a06649-9caf-41be-a1b7-cc2dbbfe0ae2",
   "metadata": {},
   "outputs": [
    {
     "name": "stdout",
     "output_type": "stream",
     "text": [
      "Created 'test_file.txt'\n"
     ]
    }
   ],
   "source": [
    "# Create a new file\n",
    "with open('test_file.txt', 'w') as f:\n",
    "    f.write(\"Hello, World!\")\n",
    "print(\"Created 'test_file.txt'\")"
   ]
  },
  {
   "cell_type": "code",
   "execution_count": 25,
   "id": "3ef37b57-b8fa-4247-b2b2-559fd7ef21bb",
   "metadata": {},
   "outputs": [
    {
     "name": "stdout",
     "output_type": "stream",
     "text": [
      "Removed 'test_file.txt'\n"
     ]
    }
   ],
   "source": [
    "# Remove the file\n",
    "os.remove('test_file.txt')\n",
    "print(\"Removed 'test_file.txt'\")"
   ]
  },
  {
   "cell_type": "code",
   "execution_count": 45,
   "id": "35e0194e-c313-4a7e-ae4d-4e2e9104b83b",
   "metadata": {},
   "outputs": [],
   "source": [
    "# Get the value of an environment variable (example: PATH)\n",
    "#path = os.getenv('PATH')\n",
    "#print(\"PATH:\", path)"
   ]
  },
  {
   "cell_type": "code",
   "execution_count": 27,
   "id": "366bb08f-16df-4226-9c13-077223c6ee78",
   "metadata": {},
   "outputs": [
    {
     "name": "stdout",
     "output_type": "stream",
     "text": [
      "Set 'MY_ENV_VAR' to 'SomeValue'\n"
     ]
    }
   ],
   "source": [
    "# Set a new environment variable\n",
    "os.environ['MY_ENV_VAR'] = 'SomeValue'\n",
    "print(\"Set 'MY_ENV_VAR' to 'SomeValue'\")"
   ]
  },
  {
   "cell_type": "code",
   "execution_count": 42,
   "id": "f94b1008-5faf-4b9f-934c-49b8139ff0c8",
   "metadata": {
    "scrolled": true
   },
   "outputs": [],
   "source": [
    "# Print all environment variables\n",
    "#for key, value in os.environ.items():\n",
    "#    print(f'{key}: {value}')"
   ]
  },
  {
   "cell_type": "code",
   "execution_count": 29,
   "id": "d84c9c40-15df-4251-9f67-69d2e3ab203f",
   "metadata": {},
   "outputs": [
    {
     "data": {
      "text/plain": [
       "'linux'"
      ]
     },
     "execution_count": 29,
     "metadata": {},
     "output_type": "execute_result"
    }
   ],
   "source": [
    "os.environ['OSTYPE']"
   ]
  },
  {
   "cell_type": "code",
   "execution_count": 35,
   "id": "854bd345-1058-4ae1-919d-47326fab4510",
   "metadata": {},
   "outputs": [
    {
     "name": "stdout",
     "output_type": "stream",
     "text": [
      "Full Path: /private/zpk/Documents/repos/reshub/notebooks/rms_tutorials/test_file.txt\n"
     ]
    }
   ],
   "source": [
    "# Join directory and file names to form a full path\n",
    "full_path = os.path.join(current_directory, 'test_file.txt')\n",
    "print(\"Full Path:\", full_path)"
   ]
  },
  {
   "cell_type": "code",
   "execution_count": 36,
   "id": "409ecc03-9a49-408f-b7f0-235dbfea06cd",
   "metadata": {},
   "outputs": [
    {
     "name": "stdout",
     "output_type": "stream",
     "text": [
      "Directory: /private/zpk/Documents/repos/reshub/notebooks/rms_tutorials\n",
      "File Name: test_file.txt\n"
     ]
    }
   ],
   "source": [
    "# Split a path into directory and file\n",
    "directory, file_name = os.path.split(full_path)\n",
    "print(\"Directory:\", directory)\n",
    "print(\"File Name:\", file_name)"
   ]
  },
  {
   "cell_type": "code",
   "execution_count": 38,
   "id": "a39a9f27-3b68-41b5-8eda-f3142f4a90fe",
   "metadata": {},
   "outputs": [
    {
     "name": "stdout",
     "output_type": "stream",
     "text": [
      "Does path exist? False\n"
     ]
    }
   ],
   "source": [
    "# Check if a path exists\n",
    "path_exists = os.path.exists(full_path)\n",
    "print(\"Does path exist?\", path_exists)"
   ]
  },
  {
   "cell_type": "code",
   "execution_count": 41,
   "id": "6bb0f28a-a8af-48b2-b75a-6ef5b3afebca",
   "metadata": {},
   "outputs": [
    {
     "name": "stdout",
     "output_type": "stream",
     "text": [
      "Found directory: /private/zpk/Documents/repos/reshub/notebooks/rms_tutorials\n",
      "\tpy_sess_week20.ipynb\n",
      "\tpy_sess_week23.ipynb\n",
      "\tpy_sess_week18.ipynb\n",
      "\tpy_sess_week_33.ipynb\n",
      "\tpy_sess_week_25.ipynb\n",
      "Found directory: /private/zpk/Documents/repos/reshub/notebooks/rms_tutorials/.ipynb_checkpoints\n",
      "\tpy_sess_week_33-checkpoint.ipynb\n",
      "\ttest_file-checkpoint.txt\n",
      "\tpy_sess_week20-checkpoint.ipynb\n",
      "\tpy_sess_week_25-checkpoint.ipynb\n",
      "\tpy_sess_week23-checkpoint.ipynb\n",
      "\tpy_sess_week18-checkpoint.ipynb\n"
     ]
    }
   ],
   "source": [
    "# Walk through a directory tree\n",
    "for dirpath, dirnames, filenames in os.walk(current_directory):\n",
    "    #print(dirpath, dirnames, filenames)\n",
    "    print(f\"Found directory: {dirpath}\")\n",
    "    for file_name in filenames:\n",
    "        print(f\"\\t{file_name}\")"
   ]
  }
 ],
 "metadata": {
  "kernelspec": {
   "display_name": "Python 3 (ipykernel)",
   "language": "python",
   "name": "python3"
  },
  "language_info": {
   "codemirror_mode": {
    "name": "ipython",
    "version": 3
   },
   "file_extension": ".py",
   "mimetype": "text/x-python",
   "name": "python",
   "nbconvert_exporter": "python",
   "pygments_lexer": "ipython3",
   "version": "3.8.18"
  }
 },
 "nbformat": 4,
 "nbformat_minor": 5
}
