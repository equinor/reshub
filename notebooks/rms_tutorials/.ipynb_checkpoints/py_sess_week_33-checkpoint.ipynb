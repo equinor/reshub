{
 "cells": [
  {
   "cell_type": "markdown",
   "id": "fe9db8ef-045f-4444-8ac5-2b93204b926c",
   "metadata": {},
   "source": [
    "<div style=\"color: #f20044; font-weight: bold; font-size: 24px;\">\n",
    "    Python Learning Session: Week 33 \n",
    "</div>\n",
    "\n",
    "\n",
    "main topics \u000b",
    "#os\n",
    "\n",
    "\n",
    "## Agenda\n",
    "\n",
    "1. **os**\n",
    "   - what it is and how to use it\n",
    "2. **os in fmu**"
   ]
  },
  {
   "cell_type": "code",
   "execution_count": 2,
   "id": "d2bb2d82-02f0-418e-81c8-bac8cd1bccf6",
   "metadata": {},
   "outputs": [
    {
     "name": "stdout",
     "output_type": "stream",
     "text": [
      "Current Working Directory: /private/zpk/Documents/repos/reshub/notebooks/rms_tutorials\n"
     ]
    }
   ],
   "source": [
    "import os\n",
    "\n",
    "# Get the current working directory\n",
    "current_directory = os.getcwd()\n",
    "print(\"Current Working Directory:\", current_directory)"
   ]
  },
  {
   "cell_type": "code",
   "execution_count": 4,
   "id": "5681e2b1-4b14-4988-8fcd-11f249739bcd",
   "metadata": {},
   "outputs": [
    {
     "name": "stdout",
     "output_type": "stream",
     "text": [
      "Changed Directory: /private/zpk/Documents/repos/reshub/notebooks\n"
     ]
    }
   ],
   "source": [
    "# Change to a different directory (example: change to the parent directory)\n",
    "os.chdir('..')\n",
    "print(\"Changed Directory:\", os.getcwd())\n",
    "\n",
    "# Change back to the original directory\n",
    "os.chdir(current_directory)"
   ]
  },
  {
   "cell_type": "code",
   "execution_count": 5,
   "id": "9abada97-09ff-4f00-9494-eaae58cbb844",
   "metadata": {},
   "outputs": [
    {
     "name": "stdout",
     "output_type": "stream",
     "text": [
      "Directory Contents: ['.ipynb_checkpoints', 'py_sess_week20.ipynb', 'py_sess_week23.ipynb', 'py_sess_week18.ipynb', 'py_sess_week_33.ipynb', 'py_sess_week_25.ipynb']\n"
     ]
    }
   ],
   "source": [
    "# List the contents of a directory\n",
    "contents = os.listdir(current_directory)\n",
    "print(\"Directory Contents:\", contents)"
   ]
  },
  {
   "cell_type": "code",
   "execution_count": 14,
   "id": "1a155386-6379-4d3a-9750-f9b5be1faa8d",
   "metadata": {},
   "outputs": [
    {
     "name": "stdout",
     "output_type": "stream",
     "text": [
      "Created 'test_directory'\n"
     ]
    }
   ],
   "source": [
    "# Create a new directory\n",
    "os.mkdir('test_directory')\n",
    "print(\"Created 'test_directory'\")"
   ]
  },
  {
   "cell_type": "code",
   "execution_count": 15,
   "id": "db37561a-781b-4111-be4c-581936a016ba",
   "metadata": {},
   "outputs": [
    {
     "name": "stdout",
     "output_type": "stream",
     "text": [
      "Renamed directory to 'renamed_directory'\n"
     ]
    }
   ],
   "source": [
    "# Rename the directory\n",
    "os.rename('test_directory', 'renamed_directory')\n",
    "print(\"Renamed directory to 'renamed_directory'\")"
   ]
  },
  {
   "cell_type": "code",
   "execution_count": 16,
   "id": "bf233aa7-f23b-4000-aca4-1c0c7169bd7d",
   "metadata": {},
   "outputs": [
    {
     "name": "stdout",
     "output_type": "stream",
     "text": [
      "Removed 'renamed_directory'\n"
     ]
    }
   ],
   "source": [
    "# Remove the directory\n",
    "os.rmdir('renamed_directory')\n",
    "print(\"Removed 'renamed_directory'\")"
   ]
  },
  {
   "cell_type": "code",
   "execution_count": 24,
   "id": "56a06649-9caf-41be-a1b7-cc2dbbfe0ae2",
   "metadata": {},
   "outputs": [
    {
     "name": "stdout",
     "output_type": "stream",
     "text": [
      "Created 'test_file.txt'\n"
     ]
    }
   ],
   "source": [
    "# Create a new file\n",
    "with open('test_file.txt', 'w') as f:\n",
    "    f.write(\"Hello, World!\")\n",
    "print(\"Created 'test_file.txt'\")"
   ]
  },
  {
   "cell_type": "code",
   "execution_count": 25,
   "id": "3ef37b57-b8fa-4247-b2b2-559fd7ef21bb",
   "metadata": {},
   "outputs": [
    {
     "name": "stdout",
     "output_type": "stream",
     "text": [
      "Removed 'test_file.txt'\n"
     ]
    }
   ],
   "source": [
    "# Remove the file\n",
    "os.remove('test_file.txt')\n",
    "print(\"Removed 'test_file.txt'\")"
   ]
  },
  {
   "cell_type": "code",
   "execution_count": 45,
   "id": "35e0194e-c313-4a7e-ae4d-4e2e9104b83b",
   "metadata": {},
   "outputs": [],
   "source": [
    "# Get the value of an environment variable (example: PATH)\n",
    "#path = os.getenv('PATH')\n",
    "#print(\"PATH:\", path)"
   ]
  },
  {
   "cell_type": "code",
   "execution_count": 27,
   "id": "366bb08f-16df-4226-9c13-077223c6ee78",
   "metadata": {},
   "outputs": [
    {
     "name": "stdout",
     "output_type": "stream",
     "text": [
      "Set 'MY_ENV_VAR' to 'SomeValue'\n"
     ]
    }
   ],
   "source": [
    "# Set a new environment variable\n",
    "os.environ['MY_ENV_VAR'] = 'SomeValue'\n",
    "print(\"Set 'MY_ENV_VAR' to 'SomeValue'\")"
   ]
  },
  {
   "cell_type": "code",
   "execution_count": 42,
   "id": "f94b1008-5faf-4b9f-934c-49b8139ff0c8",
   "metadata": {
    "scrolled": true
   },
   "outputs": [],
   "source": [
    "# Print all environment variables\n",
    "#for key, value in os.environ.items():\n",
    "#    print(f'{key}: {value}')"
   ]
  },
  {
   "cell_type": "code",
   "execution_count": 29,
   "id": "d84c9c40-15df-4251-9f67-69d2e3ab203f",
   "metadata": {},
   "outputs": [
    {
     "data": {
      "text/plain": [
       "'linux'"
      ]
     },
     "execution_count": 29,
     "metadata": {},
     "output_type": "execute_result"
    }
   ],
   "source": [
    "os.environ['OSTYPE']"
   ]
  },
  {
   "cell_type": "code",
   "execution_count": 35,
   "id": "854bd345-1058-4ae1-919d-47326fab4510",
   "metadata": {},
   "outputs": [
    {
     "name": "stdout",
     "output_type": "stream",
     "text": [
      "Full Path: /private/zpk/Documents/repos/reshub/notebooks/rms_tutorials/test_file.txt\n"
     ]
    }
   ],
   "source": [
    "# Join directory and file names to form a full path\n",
    "full_path = os.path.join(current_directory, 'test_file.txt')\n",
    "print(\"Full Path:\", full_path)"
   ]
  },
  {
   "cell_type": "code",
   "execution_count": 36,
   "id": "409ecc03-9a49-408f-b7f0-235dbfea06cd",
   "metadata": {},
   "outputs": [
    {
     "name": "stdout",
     "output_type": "stream",
     "text": [
      "Directory: /private/zpk/Documents/repos/reshub/notebooks/rms_tutorials\n",
      "File Name: test_file.txt\n"
     ]
    }
   ],
   "source": [
    "# Split a path into directory and file\n",
    "directory, file_name = os.path.split(full_path)\n",
    "print(\"Directory:\", directory)\n",
    "print(\"File Name:\", file_name)"
   ]
  },
  {
   "cell_type": "code",
   "execution_count": 38,
   "id": "a39a9f27-3b68-41b5-8eda-f3142f4a90fe",
   "metadata": {},
   "outputs": [
    {
     "name": "stdout",
     "output_type": "stream",
     "text": [
      "Does path exist? False\n"
     ]
    }
   ],
   "source": [
    "# Check if a path exists\n",
    "path_exists = os.path.exists(full_path)\n",
    "print(\"Does path exist?\", path_exists)"
   ]
  },
  {
   "cell_type": "code",
   "execution_count": 41,
   "id": "6bb0f28a-a8af-48b2-b75a-6ef5b3afebca",
   "metadata": {},
   "outputs": [
    {
     "name": "stdout",
     "output_type": "stream",
     "text": [
      "Found directory: /private/zpk/Documents/repos/reshub/notebooks/rms_tutorials\n",
      "\tpy_sess_week20.ipynb\n",
      "\tpy_sess_week23.ipynb\n",
      "\tpy_sess_week18.ipynb\n",
      "\tpy_sess_week_33.ipynb\n",
      "\tpy_sess_week_25.ipynb\n",
      "Found directory: /private/zpk/Documents/repos/reshub/notebooks/rms_tutorials/.ipynb_checkpoints\n",
      "\tpy_sess_week_33-checkpoint.ipynb\n",
      "\ttest_file-checkpoint.txt\n",
      "\tpy_sess_week20-checkpoint.ipynb\n",
      "\tpy_sess_week_25-checkpoint.ipynb\n",
      "\tpy_sess_week23-checkpoint.ipynb\n",
      "\tpy_sess_week18-checkpoint.ipynb\n"
     ]
    }
   ],
   "source": [
    "# Walk through a directory tree\n",
    "for dirpath, dirnames, filenames in os.walk(current_directory):\n",
    "    #print(dirpath, dirnames, filenames)\n",
    "    print(f\"Found directory: {dirpath}\")\n",
    "    for file_name in filenames:\n",
    "        print(f\"\\t{file_name}\")"
   ]
  },
  {
   "cell_type": "code",
   "execution_count": 46,
   "id": "af698c21-e4c1-4cd1-916f-5b3deee8ddb1",
   "metadata": {},
   "outputs": [
    {
     "data": {
      "text/html": [
       "<div>\n",
       "<style scoped>\n",
       "    .dataframe tbody tr th:only-of-type {\n",
       "        vertical-align: middle;\n",
       "    }\n",
       "\n",
       "    .dataframe tbody tr th {\n",
       "        vertical-align: top;\n",
       "    }\n",
       "\n",
       "    .dataframe thead th {\n",
       "        text-align: right;\n",
       "    }\n",
       "</style>\n",
       "<table border=\"1\" class=\"dataframe\">\n",
       "  <thead>\n",
       "    <tr style=\"text-align: right;\">\n",
       "      <th></th>\n",
       "      <th>col_1</th>\n",
       "      <th>col_2</th>\n",
       "      <th>col_3</th>\n",
       "      <th>col_4</th>\n",
       "      <th>col_5</th>\n",
       "      <th>col_6</th>\n",
       "      <th>col_7</th>\n",
       "      <th>col_8</th>\n",
       "      <th>col_9</th>\n",
       "      <th>col_10</th>\n",
       "    </tr>\n",
       "  </thead>\n",
       "  <tbody>\n",
       "    <tr>\n",
       "      <th>0</th>\n",
       "      <td>0.206117</td>\n",
       "      <td>-0.206963</td>\n",
       "      <td>-0.673483</td>\n",
       "      <td>1.050225</td>\n",
       "      <td>-1.016656</td>\n",
       "      <td>1.284540</td>\n",
       "      <td>3.365706</td>\n",
       "      <td>-1.715128</td>\n",
       "      <td>-0.463102</td>\n",
       "      <td>1.057152</td>\n",
       "    </tr>\n",
       "    <tr>\n",
       "      <th>1</th>\n",
       "      <td>-1.476937</td>\n",
       "      <td>-1.832547</td>\n",
       "      <td>1.677616</td>\n",
       "      <td>-0.294971</td>\n",
       "      <td>-0.690583</td>\n",
       "      <td>1.627486</td>\n",
       "      <td>1.656878</td>\n",
       "      <td>1.207471</td>\n",
       "      <td>1.296741</td>\n",
       "      <td>0.488283</td>\n",
       "    </tr>\n",
       "    <tr>\n",
       "      <th>2</th>\n",
       "      <td>-0.259037</td>\n",
       "      <td>-1.289458</td>\n",
       "      <td>0.695419</td>\n",
       "      <td>1.748544</td>\n",
       "      <td>-0.796738</td>\n",
       "      <td>2.067689</td>\n",
       "      <td>0.461376</td>\n",
       "      <td>-0.404533</td>\n",
       "      <td>0.624579</td>\n",
       "      <td>1.137695</td>\n",
       "    </tr>\n",
       "    <tr>\n",
       "      <th>3</th>\n",
       "      <td>0.356849</td>\n",
       "      <td>1.040266</td>\n",
       "      <td>0.271217</td>\n",
       "      <td>-0.281045</td>\n",
       "      <td>0.259275</td>\n",
       "      <td>1.213003</td>\n",
       "      <td>-2.021658</td>\n",
       "      <td>0.840392</td>\n",
       "      <td>-0.232358</td>\n",
       "      <td>-0.027562</td>\n",
       "    </tr>\n",
       "    <tr>\n",
       "      <th>4</th>\n",
       "      <td>-1.430793</td>\n",
       "      <td>0.343732</td>\n",
       "      <td>-1.281376</td>\n",
       "      <td>0.815699</td>\n",
       "      <td>0.720947</td>\n",
       "      <td>-0.861360</td>\n",
       "      <td>-0.137543</td>\n",
       "      <td>0.412159</td>\n",
       "      <td>-0.816259</td>\n",
       "      <td>1.326048</td>\n",
       "    </tr>\n",
       "  </tbody>\n",
       "</table>\n",
       "</div>"
      ],
      "text/plain": [
       "      col_1     col_2     col_3     col_4     col_5     col_6     col_7  \\\n",
       "0  0.206117 -0.206963 -0.673483  1.050225 -1.016656  1.284540  3.365706   \n",
       "1 -1.476937 -1.832547  1.677616 -0.294971 -0.690583  1.627486  1.656878   \n",
       "2 -0.259037 -1.289458  0.695419  1.748544 -0.796738  2.067689  0.461376   \n",
       "3  0.356849  1.040266  0.271217 -0.281045  0.259275  1.213003 -2.021658   \n",
       "4 -1.430793  0.343732 -1.281376  0.815699  0.720947 -0.861360 -0.137543   \n",
       "\n",
       "      col_8     col_9    col_10  \n",
       "0 -1.715128 -0.463102  1.057152  \n",
       "1  1.207471  1.296741  0.488283  \n",
       "2 -0.404533  0.624579  1.137695  \n",
       "3  0.840392 -0.232358 -0.027562  \n",
       "4  0.412159 -0.816259  1.326048  "
      ]
     },
     "execution_count": 46,
     "metadata": {},
     "output_type": "execute_result"
    }
   ],
   "source": [
    "import pandas as pd\n",
    "import numpy as np\n",
    "\n",
    "# Create a random DataFrame with 10 columns and 50 rows using normal distribution\n",
    "df = pd.DataFrame(\n",
    "    np.random.randn(50, 10),  # 50 rows, 10 columns\n",
    "    columns=[f'col_{i+1}' for i in range(10)]\n",
    ")\n",
    "\n",
    "df.head()"
   ]
  },
  {
   "cell_type": "code",
   "execution_count": 48,
   "id": "d9f358f5-8892-470e-ac0d-7e47df69f215",
   "metadata": {},
   "outputs": [
    {
     "name": "stdout",
     "output_type": "stream",
     "text": [
      "File path output:  /private/zpk/Documents/repos/reshub/notebooks/rms_tutorials/output_data.csv\n"
     ]
    }
   ],
   "source": [
    "# Save the DataFrame to a CSV file\n",
    "file_name = 'output_data.csv'\n",
    "file_path = os.path.join(current_directory, file_name)\n",
    "print('File path output: ', file_path)\n",
    "\n",
    "df.to_csv(file_path, index=False)\n",
    "\n",
    "# Get the absolute path of the file\n",
    "absolute_path = os.path.abspath(file_path)\n",
    "\n",
    "directory_contents = os.listdir(current_directory)"
   ]
  },
  {
   "cell_type": "code",
   "execution_count": 50,
   "id": "0db264ce-3236-408e-b3bd-b1b5c7d43187",
   "metadata": {},
   "outputs": [
    {
     "data": {
      "text/plain": [
       "'/private/zpk/Documents/repos/reshub/notebooks/rms_tutorials/output_data.csv'"
      ]
     },
     "execution_count": 50,
     "metadata": {},
     "output_type": "execute_result"
    }
   ],
   "source": [
    "absolute_path"
   ]
  },
  {
   "cell_type": "code",
   "execution_count": 51,
   "id": "9e458f81-1c5c-444c-8737-28006efb1f1d",
   "metadata": {},
   "outputs": [],
   "source": [
    "os.remove(file_path)"
   ]
  }
 ],
 "metadata": {
  "kernelspec": {
   "display_name": "Python 3 (ipykernel)",
   "language": "python",
   "name": "python3"
  },
  "language_info": {
   "codemirror_mode": {
    "name": "ipython",
    "version": 3
   },
   "file_extension": ".py",
   "mimetype": "text/x-python",
   "name": "python",
   "nbconvert_exporter": "python",
   "pygments_lexer": "ipython3",
   "version": "3.8.18"
  }
 },
 "nbformat": 4,
 "nbformat_minor": 5
}
