{
 "cells": [
  {
   "cell_type": "markdown",
   "id": "fe9db8ef-045f-4444-8ac5-2b93204b926c",
   "metadata": {},
   "source": [
    "<div style=\"color: #f20044; font-weight: bold; font-size: 24px;\">\n",
    "    Python Learning Session: Week 33 \n",
    "</div>\n",
    "\n",
    "\n",
    "main topics \u000b",
    "#os\n",
    "\n",
    "\n",
    "## Agenda\n",
    "\n",
    "1. **os**\n",
    "   - what it is and how to use it\n",
    "2. **os in fmu**"
   ]
  },
  {
   "cell_type": "code",
   "execution_count": 2,
   "id": "d2bb2d82-02f0-418e-81c8-bac8cd1bccf6",
   "metadata": {},
   "outputs": [
    {
     "name": "stdout",
     "output_type": "stream",
     "text": [
      "Current Working Directory: /private/zpk/Documents/repos/reshub/notebooks/rms_tutorials\n"
     ]
    }
   ],
   "source": [
    "import os\n",
    "\n",
    "# Get the current working directory\n",
    "current_directory = os.getcwd()\n",
    "print(\"Current Working Directory:\", current_directory)"
   ]
  },
  {
   "cell_type": "code",
   "execution_count": 3,
   "id": "5681e2b1-4b14-4988-8fcd-11f249739bcd",
   "metadata": {},
   "outputs": [
    {
     "name": "stdout",
     "output_type": "stream",
     "text": [
      "Changed Directory: /private/zpk/Documents/repos/reshub/notebooks\n"
     ]
    }
   ],
   "source": [
    "# Change to a different directory (example: change to the parent directory)\n",
    "os.chdir('..')\n",
    "print(\"Changed Directory:\", os.getcwd())\n",
    "\n",
    "# Change back to the original directory\n",
    "os.chdir(current_directory)"
   ]
  },
  {
   "cell_type": "code",
   "execution_count": 4,
   "id": "9abada97-09ff-4f00-9494-eaae58cbb844",
   "metadata": {},
   "outputs": [
    {
     "name": "stdout",
     "output_type": "stream",
     "text": [
      "Directory Contents: ['.ipynb_checkpoints', 'py_sess_week20.ipynb', 'py_sess_week23.ipynb', 'py_sess_week18.ipynb', 'py_sess_week_33.ipynb', 'py_sess_week_25.ipynb']\n"
     ]
    }
   ],
   "source": [
    "# List the contents of a directory\n",
    "contents = os.listdir(current_directory)\n",
    "print(\"Directory Contents:\", contents)"
   ]
  },
  {
   "cell_type": "code",
   "execution_count": 5,
   "id": "1a155386-6379-4d3a-9750-f9b5be1faa8d",
   "metadata": {},
   "outputs": [
    {
     "name": "stdout",
     "output_type": "stream",
     "text": [
      "Created 'test_directory'\n"
     ]
    }
   ],
   "source": [
    "# Create a new directory\n",
    "os.mkdir('test_directory')\n",
    "print(\"Created 'test_directory'\")"
   ]
  },
  {
   "cell_type": "code",
   "execution_count": 6,
   "id": "db37561a-781b-4111-be4c-581936a016ba",
   "metadata": {},
   "outputs": [
    {
     "name": "stdout",
     "output_type": "stream",
     "text": [
      "Renamed directory to 'renamed_directory'\n"
     ]
    }
   ],
   "source": [
    "# Rename the directory\n",
    "os.rename('test_directory', 'renamed_directory')\n",
    "print(\"Renamed directory to 'renamed_directory'\")"
   ]
  },
  {
   "cell_type": "code",
   "execution_count": 7,
   "id": "bf233aa7-f23b-4000-aca4-1c0c7169bd7d",
   "metadata": {},
   "outputs": [
    {
     "name": "stdout",
     "output_type": "stream",
     "text": [
      "Removed 'renamed_directory'\n"
     ]
    }
   ],
   "source": [
    "# Remove the directory\n",
    "os.rmdir('renamed_directory')\n",
    "print(\"Removed 'renamed_directory'\")"
   ]
  },
  {
   "cell_type": "code",
   "execution_count": 33,
   "id": "56a06649-9caf-41be-a1b7-cc2dbbfe0ae2",
   "metadata": {},
   "outputs": [
    {
     "name": "stdout",
     "output_type": "stream",
     "text": [
      "Created 'test_file.txt'\n"
     ]
    }
   ],
   "source": [
    "# Create a new file\n",
    "with open('test_file.txt', 'a') as f:\n",
    "    f.write(\"Hello, World!\")\n",
    "print(\"Created 'test_file.txt'\")"
   ]
  },
  {
   "cell_type": "code",
   "execution_count": 29,
   "id": "2b62314a-955b-48f3-be1c-b42f07c6d86c",
   "metadata": {},
   "outputs": [
    {
     "name": "stdout",
     "output_type": "stream",
     "text": [
      "total 1496\n",
      "-rw-rw-r-- 1 zpk zpk 101419 Jun  7 09:38 py_sess_week18.ipynb\n",
      "-rw-rw-r-- 1 zpk zpk  20861 Jun  7 09:38 py_sess_week20.ipynb\n",
      "-rw-rw-r-- 1 zpk zpk 967932 Jun 19 15:08 py_sess_week23.ipynb\n",
      "-rw-rw-r-- 1 zpk zpk  25565 Jun 19 15:08 py_sess_week_25.ipynb\n",
      "-rw-rw-r-- 1 zpk zpk  22240 Aug 16 09:54 py_sess_week_33.ipynb\n",
      "-rw-rw-r-- 1 zpk zpk     26 Aug 16 09:54 test_file.txt\n"
     ]
    }
   ],
   "source": [
    "ls -l"
   ]
  },
  {
   "cell_type": "code",
   "execution_count": 30,
   "id": "3ef37b57-b8fa-4247-b2b2-559fd7ef21bb",
   "metadata": {},
   "outputs": [
    {
     "name": "stdout",
     "output_type": "stream",
     "text": [
      "Removed 'test_file.txt'\n"
     ]
    }
   ],
   "source": [
    "# Remove the file\n",
    "os.remove('test_file.txt')\n",
    "print(\"Removed 'test_file.txt'\")"
   ]
  },
  {
   "cell_type": "code",
   "execution_count": 10,
   "id": "35e0194e-c313-4a7e-ae4d-4e2e9104b83b",
   "metadata": {},
   "outputs": [
    {
     "name": "stdout",
     "output_type": "stream",
     "text": [
      "PATH: /prog/res/ecl/grid/macros:/prog/res/komodo/2024.06.10-py38-rhel7/root/bin:/usr/lib64/qt-3.3/bin:/private/zpk/perl5/bin:/usr/local/bin:/usr/local/sbin:/usr/bin:/usr/sbin:/bin:/sbin:/global/distbin:/global/bin:/global/SP/bin:/prog/res/ecl/grid/macros\n"
     ]
    }
   ],
   "source": [
    "# Get the value of an environment variable (example: PATH)\n",
    "path = os.getenv('PATH')\n",
    "print(\"PATH:\", path)"
   ]
  },
  {
   "cell_type": "code",
   "execution_count": 14,
   "id": "366bb08f-16df-4226-9c13-077223c6ee78",
   "metadata": {},
   "outputs": [
    {
     "name": "stdout",
     "output_type": "stream",
     "text": [
      "Set 'MY_ENV_VAR' to 'SomeValue'\n"
     ]
    }
   ],
   "source": [
    "# Set a new environment variable\n",
    "os.environ['MY_ENV_VAR'] = 'SomeValue'\n",
    "print(\"Set 'MY_ENV_VAR' to 'SomeValue'\")"
   ]
  },
  {
   "cell_type": "code",
   "execution_count": 12,
   "id": "f94b1008-5faf-4b9f-934c-49b8139ff0c8",
   "metadata": {
    "scrolled": true
   },
   "outputs": [
    {
     "name": "stdout",
     "output_type": "stream",
     "text": [
      "XDG_SEAT: seat0\n",
      "XDG_SESSION_ID: 35612\n",
      "OSTYPE: linux\n",
      "PERL_MB_OPT: --install_base /private/zpk/perl5\n",
      "DISPLAY: :0\n",
      "GJS_DEBUG_TOPICS: JS ERROR;JS LOG\n",
      "WINDOWPATH: 1\n",
      "HOSTNAME: st-linrgsn230.st.statoil.no\n",
      "QTLIB: /usr/lib64/qt-3.3/lib\n",
      "COLORTERM: truecolor\n",
      "MACHTYPE: x86_64\n",
      "GNOME_TERMINAL_SERVICE: :1.756\n",
      "GNOME_DESKTOP_SESSION_ID: this-is-deprecated\n",
      "LOGNAME: zpk\n",
      "MODULESHOME: /usr/share/Modules\n",
      "PERL5LIB: /private/zpk/perl5/lib/perl5\n",
      "PERL_LOCAL_LIB_ROOT: /private/zpk/perl5\n",
      "SHELL: /bin/csh\n",
      "PATH: /prog/res/ecl/grid/macros:/prog/res/komodo/2024.06.10-py38-rhel7/root/bin:/usr/lib64/qt-3.3/bin:/private/zpk/perl5/bin:/usr/local/bin:/usr/local/sbin:/usr/bin:/usr/sbin:/bin:/sbin:/global/distbin:/global/bin:/global/SP/bin:/prog/res/ecl/grid/macros\n",
      "RELEASE: Red Hat Enterprise Linux Workstation release 7.9 (Maipo)\n",
      "XMODIFIERS: @im=ibus\n",
      "XDG_MENU_PREFIX: gnome-\n",
      "SSH_AUTH_SOCK: /run/user/325212/keyring/ssh\n",
      "XAUTHORITY: /run/gdm/auth-for-zpk-Q0Jc9x/database\n",
      "XDG_SESSION_DESKTOP: gnome\n",
      "GDMSESSION: gnome\n",
      "HOST: st-linrgsn230.st.statoil.no\n",
      "SSH_ASKPASS: /usr/libexec/openssh/gnome-ssh-askpass\n",
      "LESSOPEN: ||/usr/bin/lesspipe.sh %s\n",
      "VENDOR: unknown\n",
      "I_MPI_HYDRA_BOOTSTRAP: ssh\n",
      "QT_IM_MODULE: ibus\n",
      "QT_GRAPHICSSYSTEM_CHECKED: 1\n",
      "HOSTTYPE: x86_64-linux\n",
      "KRB5CCNAME: FILE:/tmp/krb5cc_325212_U6gLVa\n",
      "GROUP: zpk\n",
      "SLBSLS_LICENSE_FILE: 7321@eclipse-lic-no.statoil.no\n",
      "MAIL: /var/spool/mail/zpk\n",
      "USERNAME: zpk\n",
      "DESKTOP_SESSION: gnome\n",
      "MODULEPATH: /usr/share/Modules/modulefiles:/etc/modulefiles\n",
      "PERL_MM_OPT: INSTALL_BASE=/private/zpk/perl5\n",
      "XDG_RUNTIME_DIR: /run/user/325212\n",
      "PERL_HOMEDIR: 1\n",
      "USER: zpk\n",
      "QTDIR: /usr/lib64/qt-3.3\n",
      "CSHSetup: true\n",
      "PWD: /private/zpk/Documents/repos/reshub/notebooks/rms_tutorials\n",
      "VTE_VERSION: 5204\n",
      "QTINC: /usr/lib64/qt-3.3/include\n",
      "HOME: /private/zpk\n",
      "ECLPATH: /prog/res/ecl/grid\n",
      "KDEDIRS: /usr\n",
      "XDG_DATA_DIRS: /private/zpk/.local/share/flatpak/exports/share/:/var/lib/flatpak/exports/share/:/usr/local/share/:/usr/share/\n",
      "LOADEDMODULES: \n",
      "LANG: en_US.UTF-8\n",
      "GNOME_TERMINAL_SCREEN: /org/gnome/Terminal/screen/b8be9554_6e0a_47f9_b525_fae6e27b1a24\n",
      "SHLVL: 2\n",
      "GJS_DEBUG_OUTPUT: stderr\n",
      "GDM_LANG: en_US.UTF-8\n",
      "XDG_VTNR: 1\n",
      "QT_PLUGIN_PATH: /usr/lib64/kde4/plugins:/usr/lib/kde4/plugins\n",
      "TERM: xterm-color\n",
      "XDG_SESSION_TYPE: x11\n",
      "DBUS_SESSION_BUS_ADDRESS: unix:abstract=/tmp/dbus-MVyCbN1fTX,guid=f987c9d3b7f9f917a00327d166b1da8f\n",
      "XDG_CURRENT_DESKTOP: GNOME\n",
      "SESSION_MANAGER: local/unix:@/tmp/.ICE-unix/50027,unix/unix:/tmp/.ICE-unix/50027\n",
      "LS_COLORS: rs=0:di=38;5;27:ln=38;5;51:mh=44;38;5;15:pi=40;38;5;11:so=38;5;13:do=38;5;5:bd=48;5;232;38;5;11:cd=48;5;232;38;5;3:or=48;5;232;38;5;9:mi=05;48;5;232;38;5;15:su=48;5;196;38;5;15:sg=48;5;11;38;5;16:ca=48;5;196;38;5;226:tw=48;5;10;38;5;16:ow=48;5;10;38;5;21:st=48;5;21;38;5;15:ex=38;5;34:*.tar=38;5;9:*.tgz=38;5;9:*.arc=38;5;9:*.arj=38;5;9:*.taz=38;5;9:*.lha=38;5;9:*.lz4=38;5;9:*.lzh=38;5;9:*.lzma=38;5;9:*.tlz=38;5;9:*.txz=38;5;9:*.tzo=38;5;9:*.t7z=38;5;9:*.zip=38;5;9:*.z=38;5;9:*.Z=38;5;9:*.dz=38;5;9:*.gz=38;5;9:*.lrz=38;5;9:*.lz=38;5;9:*.lzo=38;5;9:*.xz=38;5;9:*.bz2=38;5;9:*.bz=38;5;9:*.tbz=38;5;9:*.tbz2=38;5;9:*.tz=38;5;9:*.deb=38;5;9:*.rpm=38;5;9:*.jar=38;5;9:*.war=38;5;9:*.ear=38;5;9:*.sar=38;5;9:*.rar=38;5;9:*.alz=38;5;9:*.ace=38;5;9:*.zoo=38;5;9:*.cpio=38;5;9:*.7z=38;5;9:*.rz=38;5;9:*.cab=38;5;9:*.jpg=38;5;13:*.jpeg=38;5;13:*.gif=38;5;13:*.bmp=38;5;13:*.pbm=38;5;13:*.pgm=38;5;13:*.ppm=38;5;13:*.tga=38;5;13:*.xbm=38;5;13:*.xpm=38;5;13:*.tif=38;5;13:*.tiff=38;5;13:*.png=38;5;13:*.svg=38;5;13:*.svgz=38;5;13:*.mng=38;5;13:*.pcx=38;5;13:*.mov=38;5;13:*.mpg=38;5;13:*.mpeg=38;5;13:*.m2v=38;5;13:*.mkv=38;5;13:*.webm=38;5;13:*.ogm=38;5;13:*.mp4=38;5;13:*.m4v=38;5;13:*.mp4v=38;5;13:*.vob=38;5;13:*.qt=38;5;13:*.nuv=38;5;13:*.wmv=38;5;13:*.asf=38;5;13:*.rm=38;5;13:*.rmvb=38;5;13:*.flc=38;5;13:*.avi=38;5;13:*.fli=38;5;13:*.flv=38;5;13:*.gl=38;5;13:*.dl=38;5;13:*.xcf=38;5;13:*.xwd=38;5;13:*.yuv=38;5;13:*.cgm=38;5;13:*.emf=38;5;13:*.axv=38;5;13:*.anx=38;5;13:*.ogv=38;5;13:*.ogx=38;5;13:*.aac=38;5;45:*.au=38;5;45:*.flac=38;5;45:*.mid=38;5;45:*.midi=38;5;45:*.mka=38;5;45:*.mp3=38;5;45:*.mpc=38;5;45:*.ogg=38;5;45:*.ra=38;5;45:*.wav=38;5;45:*.axa=38;5;45:*.oga=38;5;45:*.spx=38;5;45:*.xspf=38;5;45:\n",
      "_PRE_KOMODO_PATH: /usr/lib64/qt-3.3/bin:/private/zpk/perl5/bin:/usr/local/bin:/usr/local/sbin:/usr/bin:/usr/sbin:/bin:/sbin:/global/distbin:/global/bin:/global/SP/bin\n",
      "MANPATH: /prog/res/komodo/2024.06.10-py38-rhel7/root/share/man:\n",
      "LD_LIBRARY_PATH: /prog/res/komodo/2024.06.10-py38-rhel7/root/lib:/prog/res/komodo/2024.06.10-py38-rhel7/root/lib64\n",
      "KOMODO_RELEASE: 2024.06.10-py38\n",
      "_KOMODO_OLD_PROMPT: %{\\033]0;%n@%m:%c\\007%}[%n@%m %c]%# \n",
      "JPY_SESSION_NAME: /private/zpk/Documents/repos/reshub/notebooks/rms_tutorials/py_sess_week_33.ipynb\n",
      "JPY_PARENT_PID: 28943\n",
      "PYDEVD_USE_FRAME_EVAL: NO\n",
      "CLICOLOR: 1\n",
      "FORCE_COLOR: 1\n",
      "CLICOLOR_FORCE: 1\n",
      "PAGER: cat\n",
      "GIT_PAGER: cat\n",
      "MPLBACKEND: module://matplotlib_inline.backend_inline\n",
      "MY_ENV_VAR: SomeValue\n"
     ]
    }
   ],
   "source": [
    "# Print all environment variables\n",
    "for key, value in os.environ.items():\n",
    "    print(f'{key}: {value}')"
   ]
  },
  {
   "cell_type": "code",
   "execution_count": 29,
   "id": "d84c9c40-15df-4251-9f67-69d2e3ab203f",
   "metadata": {},
   "outputs": [
    {
     "data": {
      "text/plain": [
       "'linux'"
      ]
     },
     "execution_count": 29,
     "metadata": {},
     "output_type": "execute_result"
    }
   ],
   "source": [
    "os.environ['OSTYPE']"
   ]
  },
  {
   "cell_type": "code",
   "execution_count": 15,
   "id": "9a5a35c5-b899-4fdb-89e3-1168b60c5aae",
   "metadata": {},
   "outputs": [
    {
     "data": {
      "text/plain": [
       "'/private/zpk/Documents/repos/reshub/notebooks/rms_tutorials'"
      ]
     },
     "execution_count": 15,
     "metadata": {},
     "output_type": "execute_result"
    }
   ],
   "source": [
    "current_directory"
   ]
  },
  {
   "cell_type": "code",
   "execution_count": 19,
   "id": "854bd345-1058-4ae1-919d-47326fab4510",
   "metadata": {},
   "outputs": [
    {
     "name": "stdout",
     "output_type": "stream",
     "text": [
      "Full Path: /private/zpk/Documents/repos/reshub/notebooks/rms_tutorials/test_file.txt\n"
     ]
    }
   ],
   "source": [
    "# Join directory and file names to form a full path\n",
    "full_path = os.path.join(current_directory, 'test_file.txt')\n",
    "print(\"Full Path:\", full_path)"
   ]
  },
  {
   "cell_type": "code",
   "execution_count": 20,
   "id": "409ecc03-9a49-408f-b7f0-235dbfea06cd",
   "metadata": {},
   "outputs": [
    {
     "name": "stdout",
     "output_type": "stream",
     "text": [
      "Directory: /private/zpk/Documents/repos/reshub/notebooks/rms_tutorials\n",
      "File Name: test_file.txt\n"
     ]
    }
   ],
   "source": [
    "# Split a path into directory and file\n",
    "directory, file_name = os.path.split(full_path)\n",
    "print(\"Directory:\", directory)\n",
    "print(\"File Name:\", file_name)"
   ]
  },
  {
   "cell_type": "code",
   "execution_count": 34,
   "id": "a39a9f27-3b68-41b5-8eda-f3142f4a90fe",
   "metadata": {},
   "outputs": [
    {
     "name": "stdout",
     "output_type": "stream",
     "text": [
      "Does path exist? True\n"
     ]
    }
   ],
   "source": [
    "# Check if a path exists\n",
    "path_exists = os.path.exists(full_path)\n",
    "print(\"Does path exist?\", path_exists)"
   ]
  },
  {
   "cell_type": "code",
   "execution_count": 50,
   "id": "6bb0f28a-a8af-48b2-b75a-6ef5b3afebca",
   "metadata": {},
   "outputs": [
    {
     "name": "stdout",
     "output_type": "stream",
     "text": [
      "\tslope_changes.html\n",
      "\tslope_change_ml.py\n",
      "\tslope_mutli.html\n",
      "\tslope_changes_update.html\n",
      "\tslope_change_rfr.py\n",
      "\tslope_multiplier.py\n",
      "\tslope_changes_update.py\n",
      "\tslope_changes.py\n"
     ]
    }
   ],
   "source": [
    "# Walk through a directory tree\n",
    "path = '/private/zpk/Documents/Gudrun/gudrun_PI'\n",
    "for dirpath, dirnames, filenames in os.walk(path):\n",
    "    #print(filenames)#, dirnames, filenames)\n",
    "    #print(f\"Found directory: {dirpath}\")\n",
    "    for file_name in filenames:\n",
    "        #if file_name.endswith('.csv'):\n",
    "        if 'slope' in file_name:\n",
    "            print(f\"\\t{file_name}\")"
   ]
  },
  {
   "cell_type": "code",
   "execution_count": 54,
   "id": "af698c21-e4c1-4cd1-916f-5b3deee8ddb1",
   "metadata": {},
   "outputs": [
    {
     "data": {
      "text/html": [
       "<div>\n",
       "<style scoped>\n",
       "    .dataframe tbody tr th:only-of-type {\n",
       "        vertical-align: middle;\n",
       "    }\n",
       "\n",
       "    .dataframe tbody tr th {\n",
       "        vertical-align: top;\n",
       "    }\n",
       "\n",
       "    .dataframe thead th {\n",
       "        text-align: right;\n",
       "    }\n",
       "</style>\n",
       "<table border=\"1\" class=\"dataframe\">\n",
       "  <thead>\n",
       "    <tr style=\"text-align: right;\">\n",
       "      <th></th>\n",
       "      <th>col_1</th>\n",
       "      <th>col_2</th>\n",
       "      <th>col_3</th>\n",
       "      <th>col_4</th>\n",
       "      <th>col_5</th>\n",
       "      <th>col_6</th>\n",
       "      <th>col_7</th>\n",
       "      <th>col_8</th>\n",
       "      <th>col_9</th>\n",
       "      <th>col_10</th>\n",
       "    </tr>\n",
       "  </thead>\n",
       "  <tbody>\n",
       "    <tr>\n",
       "      <th>0</th>\n",
       "      <td>-0.444878</td>\n",
       "      <td>1.048218</td>\n",
       "      <td>-1.433448</td>\n",
       "      <td>-0.031850</td>\n",
       "      <td>-0.381539</td>\n",
       "      <td>3.045947</td>\n",
       "      <td>0.385675</td>\n",
       "      <td>-2.418991</td>\n",
       "      <td>0.594860</td>\n",
       "      <td>1.380230</td>\n",
       "    </tr>\n",
       "    <tr>\n",
       "      <th>1</th>\n",
       "      <td>0.248781</td>\n",
       "      <td>-1.315701</td>\n",
       "      <td>1.027023</td>\n",
       "      <td>-0.194682</td>\n",
       "      <td>-0.057762</td>\n",
       "      <td>-0.741220</td>\n",
       "      <td>-0.223978</td>\n",
       "      <td>-0.916430</td>\n",
       "      <td>-0.746397</td>\n",
       "      <td>-0.581883</td>\n",
       "    </tr>\n",
       "    <tr>\n",
       "      <th>2</th>\n",
       "      <td>1.230944</td>\n",
       "      <td>-0.301987</td>\n",
       "      <td>-0.590952</td>\n",
       "      <td>-0.383508</td>\n",
       "      <td>2.199003</td>\n",
       "      <td>-1.134102</td>\n",
       "      <td>1.469853</td>\n",
       "      <td>-0.901134</td>\n",
       "      <td>-0.482969</td>\n",
       "      <td>0.212587</td>\n",
       "    </tr>\n",
       "    <tr>\n",
       "      <th>3</th>\n",
       "      <td>-0.511828</td>\n",
       "      <td>-1.498180</td>\n",
       "      <td>0.450178</td>\n",
       "      <td>-1.441999</td>\n",
       "      <td>0.958020</td>\n",
       "      <td>-1.633394</td>\n",
       "      <td>0.221430</td>\n",
       "      <td>0.276208</td>\n",
       "      <td>-0.437141</td>\n",
       "      <td>-0.555872</td>\n",
       "    </tr>\n",
       "    <tr>\n",
       "      <th>4</th>\n",
       "      <td>1.932941</td>\n",
       "      <td>0.754420</td>\n",
       "      <td>1.664837</td>\n",
       "      <td>0.541633</td>\n",
       "      <td>0.671170</td>\n",
       "      <td>-0.681325</td>\n",
       "      <td>-1.171032</td>\n",
       "      <td>0.426703</td>\n",
       "      <td>0.200126</td>\n",
       "      <td>-0.315134</td>\n",
       "    </tr>\n",
       "  </tbody>\n",
       "</table>\n",
       "</div>"
      ],
      "text/plain": [
       "      col_1     col_2     col_3     col_4     col_5     col_6     col_7  \\\n",
       "0 -0.444878  1.048218 -1.433448 -0.031850 -0.381539  3.045947  0.385675   \n",
       "1  0.248781 -1.315701  1.027023 -0.194682 -0.057762 -0.741220 -0.223978   \n",
       "2  1.230944 -0.301987 -0.590952 -0.383508  2.199003 -1.134102  1.469853   \n",
       "3 -0.511828 -1.498180  0.450178 -1.441999  0.958020 -1.633394  0.221430   \n",
       "4  1.932941  0.754420  1.664837  0.541633  0.671170 -0.681325 -1.171032   \n",
       "\n",
       "      col_8     col_9    col_10  \n",
       "0 -2.418991  0.594860  1.380230  \n",
       "1 -0.916430 -0.746397 -0.581883  \n",
       "2 -0.901134 -0.482969  0.212587  \n",
       "3  0.276208 -0.437141 -0.555872  \n",
       "4  0.426703  0.200126 -0.315134  "
      ]
     },
     "execution_count": 54,
     "metadata": {},
     "output_type": "execute_result"
    }
   ],
   "source": [
    "import pandas as pd\n",
    "import numpy as np\n",
    "\n",
    "# Create a random DataFrame with 10 columns and 50 rows using normal distribution\n",
    "df = pd.DataFrame(\n",
    "    np.random.randn(50, 10),  # 50 rows, 10 columns\n",
    "    columns=[f'col_{i+1}' for i in range(10)]\n",
    ")\n",
    "\n",
    "df.head()"
   ]
  },
  {
   "cell_type": "code",
   "execution_count": 56,
   "id": "d9f358f5-8892-470e-ac0d-7e47df69f215",
   "metadata": {},
   "outputs": [
    {
     "name": "stdout",
     "output_type": "stream",
     "text": [
      "File path output:  /private/zpk/Documents/repos/reshub/notebooks/rms_tutorials/output_data.csv\n"
     ]
    }
   ],
   "source": [
    "# Save the DataFrame to a CSV file\n",
    "file_name = 'output_data.csv'\n",
    "file_path = os.path.join(current_directory, file_name)\n",
    "print('File path output: ', file_path)\n",
    "\n",
    "df.to_csv(file_path, index=False)\n",
    "\n",
    "# Get the absolute path of the file\n",
    "absolute_path = os.path.abspath(file_path)\n",
    "\n",
    "directory_contents = os.listdir(current_directory)"
   ]
  },
  {
   "cell_type": "code",
   "execution_count": 57,
   "id": "0db264ce-3236-408e-b3bd-b1b5c7d43187",
   "metadata": {},
   "outputs": [
    {
     "data": {
      "text/plain": [
       "'/private/zpk/Documents/repos/reshub/notebooks/rms_tutorials/output_data.csv'"
      ]
     },
     "execution_count": 57,
     "metadata": {},
     "output_type": "execute_result"
    }
   ],
   "source": [
    "absolute_path"
   ]
  },
  {
   "cell_type": "code",
   "execution_count": 51,
   "id": "9e458f81-1c5c-444c-8737-28006efb1f1d",
   "metadata": {},
   "outputs": [],
   "source": [
    "os.remove(file_path)"
   ]
  }
 ],
 "metadata": {
  "kernelspec": {
   "display_name": "Python 3 (ipykernel)",
   "language": "python",
   "name": "python3"
  },
  "language_info": {
   "codemirror_mode": {
    "name": "ipython",
    "version": 3
   },
   "file_extension": ".py",
   "mimetype": "text/x-python",
   "name": "python",
   "nbconvert_exporter": "python",
   "pygments_lexer": "ipython3",
   "version": "3.8.18"
  }
 },
 "nbformat": 4,
 "nbformat_minor": 5
}
