{
 "cells": [
  {
   "cell_type": "markdown",
   "id": "93c88786-c185-4187-8f22-44d10298020d",
   "metadata": {},
   "source": [
    "<div style=\"color: #f20044; font-weight: bold; font-size: 24px;\">\n",
    "    Python Learning Session: Week 18 \n",
    "</div>\n",
    "\n",
    "\n",
    "main topics \u000b",
    "#jupyterlab #venv #seed #pandas #dict\n"
   ]
  },
  {
   "cell_type": "markdown",
   "id": "4bef02a9-c33f-42a9-8a95-56cbfdd4b0ea",
   "metadata": {},
   "source": [
    "## Agenda\n",
    "\n",
    "1. **Jupyterlab (how to open it & use)**\n",
    "   - How to access it\n",
    "   - Functionailities \n",
    "2. **Virtual environments**\n",
    "3. **Seed (in numpy)**\n",
    "4. **Pandas**\n",
    "5. **Dicts (if time permits)**\n"
   ]
  },
  {
   "cell_type": "code",
   "execution_count": 3,
   "id": "247c13f9-4d7b-454f-bc1e-b717d82acb1b",
   "metadata": {},
   "outputs": [],
   "source": [
    "from numpy.random import seed, randint\n",
    "\n",
    "#randint?"
   ]
  },
  {
   "cell_type": "code",
   "execution_count": 1,
   "id": "0a065356-4cff-4fed-8297-867c1784bb28",
   "metadata": {},
   "outputs": [
    {
     "data": {
      "text/plain": [
       "'2.0.3'"
      ]
     },
     "execution_count": 1,
     "metadata": {},
     "output_type": "execute_result"
    }
   ],
   "source": [
    "import pandas as pd\n",
    "\n",
    "pd.__version__"
   ]
  },
  {
   "cell_type": "code",
   "execution_count": 4,
   "id": "67c2cfd7-017c-4c57-9fd8-6e4f0dfa870f",
   "metadata": {},
   "outputs": [
    {
     "data": {
      "text/plain": [
       "(5, 0, 3, 3)"
      ]
     },
     "execution_count": 4,
     "metadata": {},
     "output_type": "execute_result"
    }
   ],
   "source": [
    "seed(0)\n",
    "\n",
    "a = randint(0, 10)\n",
    "b = randint(0, 10)\n",
    "c = randint(0, 10)\n",
    "d = randint(0, 10)\n",
    "\n",
    "a, b, c, d"
   ]
  },
  {
   "cell_type": "code",
   "execution_count": 6,
   "id": "3c366d00-72b8-4bda-a754-a963995fad89",
   "metadata": {},
   "outputs": [
    {
     "data": {
      "text/plain": [
       "'\\n28.05.2023\\t179,5\\n29.05.2023\\t182,0\\n30.05.2023\\t180,6\\n31.05.2023\\t180,1\\n01.06.2023\\t178,9\\n02.06.2023\\t178,0\\n03.06.2023\\t177,7\\n04.06.2023\\t177,9\\n05.06.2023\\t176,3\\n06.06.2023\\t176,1\\n07.06.2023\\t175,8\\n08.06.2023\\t176,6\\n09.06.2023\\t176,3\\n10.06.2023\\t176,4\\n11.06.2023\\t176,8\\n12.06.2023\\t176,9\\n13.06.2023\\t176,9\\n14.06.2023\\t176,1\\n15.06.2023\\t176,7\\n16.06.2023\\t176,2\\n17.06.2023\\t174,4\\n18.06.2023\\t175,2\\n19.06.2023\\t174,6\\n20.06.2023\\t174,2\\n21.06.2023\\t174,4\\n22.06.2023\\t174,4\\n23.06.2023\\t174,0\\n24.06.2023\\t174,1\\n25.06.2023\\t173,8\\n26.06.2023\\t173,5\\n27.06.2023\\t175,3\\n28.06.2023\\t175,7\\n29.06.2023\\t175,4\\n30.06.2023\\t174,8\\n01.07.2023\\t173,6\\n02.07.2023\\t174,1\\n03.07.2023\\t173,7\\n04.07.2023\\t173,6\\n05.07.2023\\t172,8\\n06.07.2023\\t171,8\\n07.07.2023\\t171,7\\n08.07.2023\\t171,8\\n09.07.2023\\t171,8\\n10.07.2023\\t171,7\\n11.07.2023\\t171,9\\n12.07.2023\\t171,5\\n13.07.2023\\t171,5\\n14.07.2023\\t171,4\\n15.07.2023\\t171,2\\n16.07.2023\\t171,1\\n17.07.2023\\t171,3\\n18.07.2023\\t171,3\\n19.07.2023\\t171,3\\n20.07.2023\\t171,4\\n21.07.2023\\t171,3\\n22.07.2023\\t171,4\\n'"
      ]
     },
     "execution_count": 6,
     "metadata": {},
     "output_type": "execute_result"
    }
   ],
   "source": [
    "## You can test by copy-ing the content in between \"\"\"<content>\"\"\" below and running the cell\n",
    "\"\"\"\n",
    "28.05.2023\t179,5\n",
    "29.05.2023\t182,0\n",
    "30.05.2023\t180,6\n",
    "31.05.2023\t180,1\n",
    "01.06.2023\t178,9\n",
    "02.06.2023\t178,0\n",
    "03.06.2023\t177,7\n",
    "04.06.2023\t177,9\n",
    "05.06.2023\t176,3\n",
    "06.06.2023\t176,1\n",
    "07.06.2023\t175,8\n",
    "08.06.2023\t176,6\n",
    "09.06.2023\t176,3\n",
    "10.06.2023\t176,4\n",
    "11.06.2023\t176,8\n",
    "12.06.2023\t176,9\n",
    "13.06.2023\t176,9\n",
    "14.06.2023\t176,1\n",
    "15.06.2023\t176,7\n",
    "16.06.2023\t176,2\n",
    "17.06.2023\t174,4\n",
    "18.06.2023\t175,2\n",
    "19.06.2023\t174,6\n",
    "20.06.2023\t174,2\n",
    "21.06.2023\t174,4\n",
    "22.06.2023\t174,4\n",
    "23.06.2023\t174,0\n",
    "24.06.2023\t174,1\n",
    "25.06.2023\t173,8\n",
    "26.06.2023\t173,5\n",
    "27.06.2023\t175,3\n",
    "28.06.2023\t175,7\n",
    "29.06.2023\t175,4\n",
    "30.06.2023\t174,8\n",
    "01.07.2023\t173,6\n",
    "02.07.2023\t174,1\n",
    "03.07.2023\t173,7\n",
    "04.07.2023\t173,6\n",
    "05.07.2023\t172,8\n",
    "06.07.2023\t171,8\n",
    "07.07.2023\t171,7\n",
    "08.07.2023\t171,8\n",
    "09.07.2023\t171,8\n",
    "10.07.2023\t171,7\n",
    "11.07.2023\t171,9\n",
    "12.07.2023\t171,5\n",
    "13.07.2023\t171,5\n",
    "14.07.2023\t171,4\n",
    "15.07.2023\t171,2\n",
    "16.07.2023\t171,1\n",
    "17.07.2023\t171,3\n",
    "18.07.2023\t171,3\n",
    "19.07.2023\t171,3\n",
    "20.07.2023\t171,4\n",
    "21.07.2023\t171,3\n",
    "22.07.2023\t171,4\n",
    "\"\"\""
   ]
  },
  {
   "cell_type": "code",
   "execution_count": 7,
   "id": "fd368a7b-0da8-4dd0-bf12-91811a0caff1",
   "metadata": {},
   "outputs": [],
   "source": [
    "import pandas as pd\n",
    "\n",
    "df = pd.read_clipboard(names = ['Date', 'pressure_barg']) #copy the content from any type of file\n",
    "df.Date = pd.to_datetime(df.Date, format='%d.%m.%Y')\n",
    "#df.describe()\n",
    "\n",
    "df.to_csv('A7_test.csv', index = False)"
   ]
  }
 ],
 "metadata": {
  "kernelspec": {
   "display_name": "Python (resenv)",
   "language": "python",
   "name": "resenv"
  },
  "language_info": {
   "codemirror_mode": {
    "name": "ipython",
    "version": 3
   },
   "file_extension": ".py",
   "mimetype": "text/x-python",
   "name": "python",
   "nbconvert_exporter": "python",
   "pygments_lexer": "ipython3",
   "version": "3.8.18"
  }
 },
 "nbformat": 4,
 "nbformat_minor": 5
}
